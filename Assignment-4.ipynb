{
 "cells": [
  {
   "cell_type": "markdown",
   "metadata": {},
   "source": [
    "# Assignment 4"
   ]
  },
  {
   "cell_type": "markdown",
   "metadata": {},
   "source": [
    "This assignment is about data processing and plotting."
   ]
  },
  {
   "cell_type": "markdown",
   "metadata": {},
   "source": [
    "## How to hand in"
   ]
  },
  {
   "cell_type": "markdown",
   "metadata": {},
   "source": [
    "The assignment is expected to be published on GitHub, but the actual hand-in is on peergrade and should contain only a link to a MyBinder. The assignment should fit in a single Jupyter Notebook.\n",
    "\n",
    "Remember her to use the link provided when first registering your notebook with mybinder (not the url taken from your browsers adress field). See the notebook 12-Assignments for more information."
   ]
  },
  {
   "cell_type": "markdown",
   "metadata": {},
   "source": [
    "## Use pandas dataframe with poverty data"
   ]
  },
  {
   "cell_type": "markdown",
   "metadata": {},
   "source": [
    "Use this source: https://data.worldbank.org/indicator/SI.POV.DDAY and extract the csv file in jupyter notebook. With the help of Pandas' DataFrame do the following\n",
    "\n",
    "1. Create a line graph showing the development in poverty over time in both Argentina, Ivory cost, USA. (be aware of the missing data in particular years)\n",
    "2. Find the 10 countries with the highest poverty rate, and plot the rates in a bar chart\n",
    "3. Show the development of absolute poverty in all the central american countries. Hand in:\n",
    "    - A description of what graphical representation you think is best for this task\n",
    "        - See this page for inspiration: https://scipy-lectures.org/intro/matplotlib/matplotlib.html\n",
    "    - The actual graphical representation in a Jupyter Notebook\n",
    "4. From the worldbank api, find one more interesting question you would like to ask. Hand in:\n",
    "    - A description of why that question is interesting\n",
    "    - A visualisation of the question in your Jupyter Notebook\n",
    "        - See this page for inspiration: https://scipy-lectures.org/intro/matplotlib/matplotlib.html"
   ]
  },
  {
   "cell_type": "code",
   "execution_count": 1,
   "metadata": {},
   "outputs": [
    {
     "name": "stdout",
     "output_type": "stream",
     "text": [
      ".\\API_SI.POV.DDAY_DS2_en_csv_v2_10474275.csv\n"
     ]
    }
   ],
   "source": [
    "import pandas as pd\n",
    "import requests\n",
    "import zipfile\n",
    "from glob import glob\n",
    "\n",
    "# url with data\n",
    "url = 'http://api.worldbank.org/v2/en/indicator/SI.POV.DDAY?downloadformat=csv'\n",
    "# downloading data\n",
    "response = requests.get(url)\n",
    "# extracting filename\n",
    "fname = response.headers['Content-Disposition'].split('=')[1]\n",
    "if response.ok:  # status_code == 200:\n",
    "    # opens the file\n",
    "    with open(fname, 'wb') as f:\n",
    "        f.write(response.content)\n",
    "# unpacking zip\n",
    "zipfile.ZipFile(fname, 'r').extractall('.')\n",
    "# finding the file\n",
    "local_file = glob('./*API*.csv')[0]\n",
    "print(local_file)"
   ]
  },
  {
   "cell_type": "code",
   "execution_count": 2,
   "metadata": {},
   "outputs": [],
   "source": [
    "# reads file, skips first 4 rows\n",
    "df = pd.read_csv(local_file,skiprows=4)\n",
    "# setting collumn 'Country Name' as index\n",
    "df.set_index('Country Name',inplace=True)"
   ]
  },
  {
   "cell_type": "markdown",
   "metadata": {},
   "source": [
    "### 1 Create a line graph showing the development in poverty over time in both Argentina, Ivory coast, USA."
   ]
  },
  {
   "cell_type": "code",
   "execution_count": 6,
   "metadata": {},
   "outputs": [
    {
     "name": "stdout",
     "output_type": "stream",
     "text": [
      "Populating the interactive namespace from numpy and matplotlib\n"
     ]
    },
    {
     "data": {
      "text/plain": [
       "<matplotlib.legend.Legend at 0x1f3e3919b00>"
      ]
     },
     "execution_count": 6,
     "metadata": {},
     "output_type": "execute_result"
    },
    {
     "data": {
      "image/png": "[encoded data removed]",
      "text/plain": [
       "<Figure size 432x288 with 1 Axes>"
      ]
     },
     "metadata": {
      "needs_background": "light"
     },
     "output_type": "display_data"
    }
   ],
   "source": [
    "%pylab inline\n",
    "\n",
    "# extracting data\n",
    "argentina = df.loc['Argentina',\"1960\":\"2018\"]\n",
    "ivory_coast = df.loc['Cote d\\'Ivoire',\"1960\":\"2018\"]\n",
    "usa = df.loc['United States',\"1960\":\"2018\"]\n",
    "\n",
    "# fillna(0) replaces nan's with 0's.\n",
    "# need to be plotted correctly\n",
    "argentina = argentina.fillna(0)\n",
    "ivory_coast = ivory_coast.fillna(0)\n",
    "usa = usa.fillna(0)\n",
    "\n",
    "# plotting data\n",
    "argentina.plot()\n",
    "ivory_coast.plot()\n",
    "usa.plot()\n",
    "\n",
    "# adding legend\n",
    "matplotlib.pyplot.legend(['Argentina','Cote d\\'Ivoire','United States'])"
   ]
  },
  {
   "cell_type": "markdown",
   "metadata": {},
   "source": [
    "### 2 Find the 10 countries with the highest poverty rate, and plot the rates in a bar chart."
   ]
  },
  {
   "cell_type": "code",
   "execution_count": null,
   "metadata": {},
   "outputs": [],
   "source": []
  },
  {
   "cell_type": "markdown",
   "metadata": {},
   "source": [
    "### 3 Show the development of absolute poverty in all the central american countries."
   ]
  },
  {
   "cell_type": "code",
   "execution_count": null,
   "metadata": {},
   "outputs": [],
   "source": []
  },
  {
   "cell_type": "markdown",
   "metadata": {},
   "source": [
    "### 4 From the worldbank api, find one more interesting question you would like to ask."
   ]
  },
  {
   "cell_type": "code",
   "execution_count": null,
   "metadata": {},
   "outputs": [],
   "source": []
  }
 ],
 "metadata": {
  "kernelspec": {
   "display_name": "Python 3",
   "language": "python",
   "name": "python3"
  },
  "language_info": {
   "codemirror_mode": {
    "name": "ipython",
    "version": 3
   },
   "file_extension": ".py",
   "mimetype": "text/x-python",
   "name": "python",
   "nbconvert_exporter": "python",
   "pygments_lexer": "ipython3",
   "version": "3.7.1"
  }
 },
 "nbformat": 4,
 "nbformat_minor": 2
}
